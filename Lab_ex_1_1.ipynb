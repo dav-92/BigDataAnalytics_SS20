{
  "nbformat": 4,
  "nbformat_minor": 0,
  "metadata": {
    "kernelspec": {
      "display_name": "Python 3",
      "language": "python",
      "name": "python3"
    },
    "language_info": {
      "codemirror_mode": {
        "name": "ipython",
        "version": 3
      },
      "file_extension": ".py",
      "mimetype": "text/x-python",
      "name": "python",
      "nbconvert_exporter": "python",
      "pygments_lexer": "ipython3",
      "version": "3.7.6"
    },
    "colab": {
      "name": "Lab_ex_1_1.ipynb",
      "provenance": []
    }
  },
  "cells": [
    {
      "cell_type": "markdown",
      "metadata": {
        "id": "2bXTUQdZh5MQ",
        "colab_type": "text"
      },
      "source": [
        "# Ex 1.1: MapReduce with Python Functional Programming"
      ]
    },
    {
      "cell_type": "markdown",
      "metadata": {
        "id": "__BgvbtPh5MS",
        "colab_type": "text"
      },
      "source": [
        "#### Python *map* function\n",
        "Python has e built in *map* function -> [see python docs](https://docs.python.org/3/library/functions.html#map)\n",
        "* ``map(function, iterable object)`` applies a function to every member of the object (=data structure)\n",
        "* iterable objects are e.g. lists, dicts, arrays, ... but also custom data structures (see [here](https://thispointer.com/python-how-to-make-a-class-iterable-create-iterator-class-for-it/))"
      ]
    },
    {
      "cell_type": "code",
      "metadata": {
        "id": "X61vLjaKh5MT",
        "colab_type": "code",
        "colab": {
          "base_uri": "https://localhost:8080/",
          "height": 51
        },
        "outputId": "a3a7e21c-82af-4dd8-f8b0-cdb20816cd5c"
      },
      "source": [
        "#example\n",
        "def Plus1(a):\n",
        "    return a+1\n",
        "\n",
        "A = [1,2,3,4]\n",
        "print(A)\n",
        "B = list(map(Plus1,A)) #need to cast map output to list\n",
        "print(B)"
      ],
      "execution_count": 110,
      "outputs": [
        {
          "output_type": "stream",
          "text": [
            "[1, 2, 3, 4]\n",
            "[2, 3, 4, 5]\n"
          ],
          "name": "stdout"
        }
      ]
    },
    {
      "cell_type": "code",
      "metadata": {
        "id": "09A08coFh5MZ",
        "colab_type": "code",
        "colab": {
          "base_uri": "https://localhost:8080/",
          "height": 68
        },
        "outputId": "c62c8b94-5776-485a-f4bd-465006716fe2"
      },
      "source": [
        "#example 2 - map with an function that takes arguments\n",
        "from functools import partial\n",
        "\n",
        "def PlusX(a,x):\n",
        "    return a+x\n",
        "\n",
        "\n",
        "A = [1,2,3,4]\n",
        "print(A)\n",
        "B = list(map(partial(PlusX,x=2),A)) #use partial to fix parameters \n",
        "print(B)\n",
        "\n",
        "C = [1,1,3,3]\n",
        "D = list(map(PlusX,A,C)) #or input multiple iterable objects\n",
        "print(D)"
      ],
      "execution_count": 2,
      "outputs": [
        {
          "output_type": "stream",
          "text": [
            "[1, 2, 3, 4]\n",
            "[3, 4, 5, 6]\n",
            "[2, 3, 6, 7]\n"
          ],
          "name": "stdout"
        }
      ]
    },
    {
      "cell_type": "code",
      "metadata": {
        "id": "c4M_2wC6h5Md",
        "colab_type": "code",
        "colab": {
          "base_uri": "https://localhost:8080/",
          "height": 34
        },
        "outputId": "9a018967-a147-4a28-e4bf-4843e6057b90"
      },
      "source": [
        "#example 3 - map with lmbda functions\n",
        "A = [1,2,3,4]\n",
        "B = list(map(lambda x:x+1,A ))#implement function directly with lambda\n",
        "print(B)"
      ],
      "execution_count": 3,
      "outputs": [
        {
          "output_type": "stream",
          "text": [
            "[2, 3, 4, 5]\n"
          ],
          "name": "stdout"
        }
      ]
    },
    {
      "cell_type": "code",
      "metadata": {
        "id": "G1Gy_xDih5Mg",
        "colab_type": "code",
        "colab": {
          "base_uri": "https://localhost:8080/",
          "height": 357
        },
        "outputId": "bbd042e6-6e87-4522-8528-2dee383e1edb"
      },
      "source": [
        "#example 4 - Numpy has map \"build in\"\n",
        "import numpy as np\n",
        "A = np.random.rand(10,10)*20\n",
        "A"
      ],
      "execution_count": 4,
      "outputs": [
        {
          "output_type": "execute_result",
          "data": {
            "text/plain": [
              "array([[18.63235437,  4.48198167, 10.12729367,  5.98604279, 19.44771783,\n",
              "         5.54368609, 12.40710931, 18.17202564, 15.24880788, 18.66622962],\n",
              "       [10.46039953,  6.87321976,  2.38640596,  8.54575264,  3.91704661,\n",
              "         2.22828666,  9.2531714 , 18.61674381,  4.6421022 ,  9.41106523],\n",
              "       [ 9.15648656, 19.7524561 ,  2.30821786, 11.20155848,  6.62426694,\n",
              "        10.76178634,  6.42644546, 12.95263711, 10.15480227,  3.76964067],\n",
              "       [19.89184344,  3.90070662, 17.93534955, 16.27234917,  0.90322919,\n",
              "         4.00517543, 12.22810123, 14.79220672,  2.67681618, 14.50879794],\n",
              "       [19.65664497, 14.46906752,  3.56723793, 10.59064952, 16.09501426,\n",
              "         6.71346642, 15.25525674, 14.77882495,  9.8902444 , 18.13526441],\n",
              "       [ 8.06031447,  6.73235327, 18.58776943, 10.50080747,  4.14672485,\n",
              "         1.73392242,  4.81829259, 19.13914427,  0.9499196 ,  7.61511687],\n",
              "       [ 4.98264759,  9.84163068, 18.34216436,  4.95747679, 12.89388795,\n",
              "         2.89043596,  8.70014011,  2.82838074, 14.03933659,  9.1153559 ],\n",
              "       [ 4.03689952, 11.68480132, 13.68055238, 13.01288621,  7.65148282,\n",
              "         2.41132356,  8.90956159,  0.68280652, 16.41240367,  7.71183142],\n",
              "       [17.89546523, 19.49139239,  1.06519987, 16.48932355, 18.66742936,\n",
              "         5.90581088, 17.06659623, 18.41240864, 15.15486019,  3.66262571],\n",
              "       [ 0.63814209,  2.38456405, 16.02849996,  7.79532303, 16.96748495,\n",
              "         1.54710184, 13.09295026, 13.07772574,  1.04196369,  0.99778292]])"
            ]
          },
          "metadata": {
            "tags": []
          },
          "execution_count": 4
        }
      ]
    },
    {
      "cell_type": "code",
      "metadata": {
        "id": "4yw6fNkAh5Ml",
        "colab_type": "code",
        "colab": {}
      },
      "source": [
        "#apply function directly on each element of an array\n",
        "def isLarger10(x):\n",
        "    return x>10\n",
        "\n",
        "B = isLarger10(A)"
      ],
      "execution_count": 0,
      "outputs": []
    },
    {
      "cell_type": "code",
      "metadata": {
        "id": "7mfcaIL2h5Mv",
        "colab_type": "code",
        "colab": {
          "base_uri": "https://localhost:8080/",
          "height": 357
        },
        "outputId": "65084343-4cc2-446c-c271-89c2fb640be8"
      },
      "source": [
        "B"
      ],
      "execution_count": 6,
      "outputs": [
        {
          "output_type": "execute_result",
          "data": {
            "text/plain": [
              "array([[ True, False,  True, False,  True, False,  True,  True,  True,\n",
              "         True],\n",
              "       [ True, False, False, False, False, False, False,  True, False,\n",
              "        False],\n",
              "       [False,  True, False,  True, False,  True, False,  True,  True,\n",
              "        False],\n",
              "       [ True, False,  True,  True, False, False,  True,  True, False,\n",
              "         True],\n",
              "       [ True,  True, False,  True,  True, False,  True,  True, False,\n",
              "         True],\n",
              "       [False, False,  True,  True, False, False, False,  True, False,\n",
              "        False],\n",
              "       [False, False,  True, False,  True, False, False, False,  True,\n",
              "        False],\n",
              "       [False,  True,  True,  True, False, False, False, False,  True,\n",
              "        False],\n",
              "       [ True,  True, False,  True,  True, False,  True,  True,  True,\n",
              "        False],\n",
              "       [False, False,  True, False,  True, False,  True,  True, False,\n",
              "        False]])"
            ]
          },
          "metadata": {
            "tags": []
          },
          "execution_count": 6
        }
      ]
    },
    {
      "cell_type": "markdown",
      "metadata": {
        "id": "B0tpaF2xh5M5",
        "colab_type": "text"
      },
      "source": [
        "#### *Reduce* in Python\n",
        "*functools* also provides a *reduce* function. Again, it will take a function and one ore more iterable objects as arguments. (see [API](https://docs.python.org/3/library/functools.html#functools.reduce))"
      ]
    },
    {
      "cell_type": "code",
      "metadata": {
        "id": "mNHnrJCTh5M6",
        "colab_type": "code",
        "colab": {
          "base_uri": "https://localhost:8080/",
          "height": 51
        },
        "outputId": "37c4daac-171f-43d5-c71d-cf6757152c6f"
      },
      "source": [
        "# importing functools for reduce() \n",
        "import functools \n",
        "  \n",
        "# initializing list \n",
        "lis = [ 1 , 3, 5, 6, 2, ] \n",
        "  \n",
        "def addIt(a,b):\n",
        "    return a+b\n",
        "\n",
        "# using reduce to compute sum of list \n",
        "print (\"The sum of the list elements is : \",end=\"\") \n",
        "print (functools.reduce(addIt,lis)) \n",
        "  \n",
        "# using reduce to compute maximum element from list \n",
        "print (\"The maximum element of the list is : \",end=\"\") \n",
        "print (functools.reduce(lambda a,b : a if a > b else b,lis)) "
      ],
      "execution_count": 7,
      "outputs": [
        {
          "output_type": "stream",
          "text": [
            "The sum of the list elements is : 17\n",
            "The maximum element of the list is : 6\n"
          ],
          "name": "stdout"
        }
      ]
    },
    {
      "cell_type": "markdown",
      "metadata": {
        "id": "SaKkkSD9h5NA",
        "colab_type": "text"
      },
      "source": [
        "#### Splitting"
      ]
    },
    {
      "cell_type": "code",
      "metadata": {
        "id": "3hUR_Hqsh5NB",
        "colab_type": "code",
        "colab": {
          "base_uri": "https://localhost:8080/",
          "height": 68
        },
        "outputId": "7aa98217-6c8d-4605-f0b4-d31326521f90"
      },
      "source": [
        "import more_itertools as mit\n",
        "\n",
        "A=[1,2,3,4,5,6,7,8,9]\n",
        "B=list(mit.chunked(A, 3)) #split into lists of max size 3\n",
        "\n",
        "for i in B: #iterate over the spitts \n",
        "    print(i)"
      ],
      "execution_count": 8,
      "outputs": [
        {
          "output_type": "stream",
          "text": [
            "[1, 2, 3]\n",
            "[4, 5, 6]\n",
            "[7, 8, 9]\n"
          ],
          "name": "stdout"
        }
      ]
    },
    {
      "cell_type": "code",
      "metadata": {
        "id": "08pnRIOph5NG",
        "colab_type": "code",
        "colab": {
          "base_uri": "https://localhost:8080/",
          "height": 187
        },
        "outputId": "82bdca7c-62ec-4eaa-d184-9f934cb8d01b"
      },
      "source": [
        "A='this is a short text in form of a python string'\n",
        "B=list(mit.chunked(A, 5)) #split into lists of max size 5\n",
        "\n",
        "for i in B: #iterate over the spitts \n",
        "    print(i)"
      ],
      "execution_count": 9,
      "outputs": [
        {
          "output_type": "stream",
          "text": [
            "['t', 'h', 'i', 's', ' ']\n",
            "['i', 's', ' ', 'a', ' ']\n",
            "['s', 'h', 'o', 'r', 't']\n",
            "[' ', 't', 'e', 'x', 't']\n",
            "[' ', 'i', 'n', ' ', 'f']\n",
            "['o', 'r', 'm', ' ', 'o']\n",
            "['f', ' ', 'a', ' ', 'p']\n",
            "['y', 't', 'h', 'o', 'n']\n",
            "[' ', 's', 't', 'r', 'i']\n",
            "['n', 'g']\n"
          ],
          "name": "stdout"
        }
      ]
    },
    {
      "cell_type": "markdown",
      "metadata": {
        "id": "vEFvH2TLh5NK",
        "colab_type": "text"
      },
      "source": [
        "## Exercise: build a simple *Character Count* Algorithm based on the above *split, map* and *reduce* operators "
      ]
    },
    {
      "cell_type": "code",
      "metadata": {
        "id": "-mpt7KKRh5NL",
        "colab_type": "code",
        "colab": {}
      },
      "source": [
        "#some text from NYTimes\n",
        "text = ' Byron Spencer, handing out water and burgers to protesters outside Los Angeles City Hall, said he was both “elated and defeated” by word of the new charges. He said he had seen countless surges of outrage over police brutality against black men, only to have it happen again. “I’m 55, I’m black and I’m male — I’ve seen the cycle,” he said. “It’s almost like PTSD constantly having this conversation with my son.” Cierra Sesay reacted to the charges at a demonstration in the shadow of the State Capitol in Denver. “It’s amazing, it’s another box we can check,” she said. “But it goes up so much higher. It’s about the system.” In San Francisco, Tevita Tomasi — who is of Polynesian descent and described himself as “dark and tall and big” — said he regularly faced racial profiling, evidence of the bigger forces that must be overcome. On Wednesday, he distributed bottled water at what he said was his first demonstration, but one that would not be his last. What would stop him from protesting?'"
      ],
      "execution_count": 0,
      "outputs": []
    },
    {
      "cell_type": "markdown",
      "metadata": {
        "id": "Ee7qCg-Oh5NP",
        "colab_type": "text"
      },
      "source": [
        "* HINT: use list pf *python* [dictionaries](https://docs.python.org/3/tutorial/datastructures.html#dictionaries) to store the character counts in the map\n",
        "* HINT 2: merge the dicts in reduce"
      ]
    },
    {
      "cell_type": "code",
      "metadata": {
        "id": "hHbD-Jelh5NP",
        "colab_type": "code",
        "colab": {}
      },
      "source": [
        "chunked = list(mit.chunked(text, 1))\n",
        "for i in chunked:\n",
        "    print(i)"
      ],
      "execution_count": 0,
      "outputs": []
    },
    {
      "cell_type": "code",
      "metadata": {
        "id": "Xh3f3xbm1gwc",
        "colab_type": "code",
        "colab": {}
      },
      "source": [
        "def toDict(char_array):\n",
        "  return {char_array[0]: 1}"
      ],
      "execution_count": 0,
      "outputs": []
    },
    {
      "cell_type": "code",
      "metadata": {
        "id": "ICVsy1961tvT",
        "colab_type": "code",
        "colab": {}
      },
      "source": [
        "mapped = list(map(toDict,chunked))"
      ],
      "execution_count": 0,
      "outputs": []
    },
    {
      "cell_type": "code",
      "metadata": {
        "id": "utfdP2jy4IRL",
        "colab_type": "code",
        "colab": {}
      },
      "source": [
        "mapped"
      ],
      "execution_count": 0,
      "outputs": []
    },
    {
      "cell_type": "code",
      "metadata": {
        "id": "knNPYlyh32gE",
        "colab_type": "code",
        "colab": {}
      },
      "source": [
        "from collections import Counter\n",
        "def count(a,b):\n",
        "  return Counter(a) + Counter(b)"
      ],
      "execution_count": 0,
      "outputs": []
    },
    {
      "cell_type": "code",
      "metadata": {
        "id": "-YSbdORb3qaz",
        "colab_type": "code",
        "colab": {}
      },
      "source": [
        "functools.reduce(count,mapped)"
      ],
      "execution_count": 0,
      "outputs": []
    }
  ]
}